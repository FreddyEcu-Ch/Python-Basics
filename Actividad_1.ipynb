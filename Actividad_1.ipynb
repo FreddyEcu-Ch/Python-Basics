{
 "cells": [
  {
   "cell_type": "markdown",
   "id": "912bb524-0670-481e-91fd-1ab50b6ec9d8",
   "metadata": {},
   "source": [
    "# **Bases de Python**\n",
    "\n",
    "[Freddy Carrión Maldonado](https://www.linkedin.com/in/freddy-carri%C3%B3n-maldonado-b3579b125/)"
   ]
  },
  {
   "cell_type": "markdown",
   "id": "ae258603-356b-49fd-9cd0-886a6622e7b1",
   "metadata": {},
   "source": [
    "# **Objetivo**\n",
    "\n",
    "Utilizar programación modular, diseñando y usando funciones en programas con Python que contengan datos estructurados inmutables – strings y mutables – listas, incluyendo listas de listas."
   ]
  },
  {
   "cell_type": "markdown",
   "id": "809c1165-5818-4573-ad07-dda22b3fa2d6",
   "metadata": {},
   "source": [
    "# **Parte 1 - Ejercicios con strings (cadenas de caracteres)**"
   ]
  },
  {
   "cell_type": "markdown",
   "id": "afb5fb66-d667-454e-8b8a-5b10974f496e",
   "metadata": {},
   "source": [
    "### **1. Porcentaje de vocales.** \n",
    "\n",
    "Escribe una función porcentVocal(s) en que dado un string s, la función devuelva el porcentaje de vocales que contiene el string. Deben considerarse vocales minúsculas y mayúsculas. Devolver el resultado con un decimal de precisión. Consideraremos que las vocales están sin tilde o acento gráfico. Se valorará prever el caso que se envíe como argumento un string vacío."
   ]
  },
  {
   "cell_type": "code",
   "execution_count": 1,
   "id": "82015a95-9ca6-4e77-a3ed-deca247736fe",
   "metadata": {},
   "outputs": [],
   "source": [
    "def porcentVocal(s):\n",
    "    # Condición de que el strin no sea vacío\n",
    "    if s != \"\":\n",
    "        # String vocales y objeto suma\n",
    "        vowels = \"aeiou\"\n",
    "        suma = 0\n",
    "        for letra in s:\n",
    "            # Condición de que alguna letra del string sea vocal\n",
    "            if letra in vowels or letra in vowels.upper():\n",
    "                suma += 1\n",
    "            else:\n",
    "                continue\n",
    "        # Cálculo del porcentaje de vocales presentes en el string\n",
    "        por_vowels = (suma / len(s)) * 100\n",
    "        # Un decimal de precisión\n",
    "        return round(por_vowels, 1)\n",
    "    else:\n",
    "        print(\"Ingresar una cadena que no sea vacía\")"
   ]
  },
  {
   "cell_type": "code",
   "execution_count": 2,
   "id": "c1c68d43-78ea-47d7-a961-e7158cf42886",
   "metadata": {},
   "outputs": [
    {
     "data": {
      "text/plain": [
       "50.0"
      ]
     },
     "execution_count": 2,
     "metadata": {},
     "output_type": "execute_result"
    }
   ],
   "source": [
    "porcentVocal(\"Hola\")"
   ]
  },
  {
   "cell_type": "code",
   "execution_count": 3,
   "id": "9b946a4e-341b-4aa3-9e04-f46c3497de06",
   "metadata": {},
   "outputs": [
    {
     "data": {
      "text/plain": [
       "57.1"
      ]
     },
     "execution_count": 3,
     "metadata": {},
     "output_type": "execute_result"
    }
   ],
   "source": [
    "porcentVocal(\"Ecuador\")"
   ]
  },
  {
   "cell_type": "code",
   "execution_count": 4,
   "id": "8b93bba1-dc41-47a4-aaac-c96d910de673",
   "metadata": {},
   "outputs": [
    {
     "data": {
      "text/plain": [
       "66.7"
      ]
     },
     "execution_count": 4,
     "metadata": {},
     "output_type": "execute_result"
    }
   ],
   "source": [
    "porcentVocal(\"Acacia\")"
   ]
  },
  {
   "cell_type": "code",
   "execution_count": 5,
   "id": "67b8a737-33d8-4031-aa4d-92031f677eb1",
   "metadata": {},
   "outputs": [
    {
     "data": {
      "text/plain": [
       "0.0"
      ]
     },
     "execution_count": 5,
     "metadata": {},
     "output_type": "execute_result"
    }
   ],
   "source": [
    "porcentVocal(\"Brrrrrrr\")"
   ]
  },
  {
   "cell_type": "code",
   "execution_count": 6,
   "id": "bcee8dd3-9845-463f-bf7b-0c415a40d5f6",
   "metadata": {},
   "outputs": [
    {
     "data": {
      "text/plain": [
       "100.0"
      ]
     },
     "execution_count": 6,
     "metadata": {},
     "output_type": "execute_result"
    }
   ],
   "source": [
    "porcentVocal(\"aAe\")"
   ]
  },
  {
   "cell_type": "code",
   "execution_count": 7,
   "id": "c1733088-fe19-47ee-a56f-1d6d420c0376",
   "metadata": {},
   "outputs": [
    {
     "name": "stdout",
     "output_type": "stream",
     "text": [
      "Ingresar una cadena que no sea vacía\n"
     ]
    }
   ],
   "source": [
    "porcentVocal(\"\")"
   ]
  },
  {
   "cell_type": "markdown",
   "id": "40cc8cf5-cebe-4afd-86c2-23ddf096733d",
   "metadata": {},
   "source": [
    "### **2. Elimina vocales.**\n",
    "\n",
    "Diseña una función delete_vowels(s) que, dado un string s devuelva un string con los caracteres de s en el mismo orden pero sin sus vocales (mayúsculas o minúsculas). Nota: consideraremos que las vocales que aparezcan serán sin tilde o acento gráfico."
   ]
  },
  {
   "cell_type": "code",
   "execution_count": 8,
   "id": "7612ccf9-16c1-4287-a6d5-b121b3c10ac8",
   "metadata": {},
   "outputs": [],
   "source": [
    "def delete_vowels(s):\n",
    "    # Cadena de vocales y cadena vacía\n",
    "    vowels = \"aeiou\"\n",
    "    carac = \"\"\n",
    "    for letra in s:\n",
    "        # Condición para identificar si alguna letra del string es vocal\n",
    "        if letra in vowels or letra in vowels.upper():\n",
    "            continue\n",
    "        else:\n",
    "            carac += letra\n",
    "    return carac"
   ]
  },
  {
   "cell_type": "code",
   "execution_count": 9,
   "id": "e673e348-3f99-44cf-87bc-9d62896c7b0f",
   "metadata": {},
   "outputs": [
    {
     "data": {
      "text/plain": [
       "'Csblnc'"
      ]
     },
     "execution_count": 9,
     "metadata": {},
     "output_type": "execute_result"
    }
   ],
   "source": [
    "delete_vowels(\"Casablanca\")"
   ]
  },
  {
   "cell_type": "code",
   "execution_count": 10,
   "id": "b8998c28-599e-4b73-bca8-203e33bd3c57",
   "metadata": {},
   "outputs": [
    {
     "data": {
      "text/plain": [
       "'lcnt'"
      ]
     },
     "execution_count": 10,
     "metadata": {},
     "output_type": "execute_result"
    }
   ],
   "source": [
    "delete_vowels(\"Alicante\")"
   ]
  },
  {
   "cell_type": "code",
   "execution_count": 11,
   "id": "4ef11951-293c-4b39-b336-f395543d6652",
   "metadata": {},
   "outputs": [
    {
     "data": {
      "text/plain": [
       "'Hy hy xmn'"
      ]
     },
     "execution_count": 11,
     "metadata": {},
     "output_type": "execute_result"
    }
   ],
   "source": [
    "delete_vowels(\"Hoy hay examen\")"
   ]
  },
  {
   "cell_type": "markdown",
   "id": "f803e450-3565-44ad-8951-ffa0ab0afdfc",
   "metadata": {},
   "source": [
    "### **3. Calcula código.**\n",
    "\n",
    "Dado un string s que contiene los nombres y apellidos de una persona, diseña la función codigo(s) que devuelva el string **ini** + str(**count**), donde **ini** contiene las iniciales de la persona (las letras mayúsculas de s) y **count** es el número total de letras de sus nombres y apellidos (es decir, las letras de s sin contar caracteres blancos o espacios)."
   ]
  },
  {
   "cell_type": "code",
   "execution_count": 12,
   "id": "b33d3956-6533-49f7-a9ca-399a342ba406",
   "metadata": {},
   "outputs": [],
   "source": [
    "def codigo(s):\n",
    "    if s != \"\":\n",
    "        # Convierto a mayúscula la primera letra de cada palabra\n",
    "        s_1 = s.title()\n",
    "        # Guardo en una lista las palabras\n",
    "        s_l = s_1.split()\n",
    "        # Convierto la lista nuevamente a string\n",
    "        s_f = \"\".join(s_l)\n",
    "\n",
    "        # string vacío\n",
    "        ini = \"\"\n",
    "        count = 0\n",
    "        for l in s_f:\n",
    "            if l.isupper():\n",
    "                ini += l\n",
    "            else:\n",
    "                continue\n",
    "        # string final\n",
    "        ini = ini + str(len(s_f))\n",
    "        return ini\n",
    "    else:\n",
    "        print(\" \")"
   ]
  },
  {
   "cell_type": "code",
   "execution_count": 13,
   "id": "3664031e-b3ef-4785-9743-2c2eb94d836d",
   "metadata": {},
   "outputs": [
    {
     "data": {
      "text/plain": [
       "'FC13'"
      ]
     },
     "execution_count": 13,
     "metadata": {},
     "output_type": "execute_result"
    }
   ],
   "source": [
    "codigo(\"freddy Carrion\")"
   ]
  },
  {
   "cell_type": "code",
   "execution_count": 14,
   "id": "1d81501b-e375-4ea6-8544-a1045b7eb81c",
   "metadata": {},
   "outputs": [
    {
     "data": {
      "text/plain": [
       "'BFJS31'"
      ]
     },
     "execution_count": 14,
     "metadata": {},
     "output_type": "execute_result"
    }
   ],
   "source": [
    "codigo(\"Bruce Frederick Joseph Springsteen\")"
   ]
  },
  {
   "cell_type": "code",
   "execution_count": 15,
   "id": "1b1accea-abe8-492c-85f6-190c5821d7d3",
   "metadata": {},
   "outputs": [
    {
     "name": "stdout",
     "output_type": "stream",
     "text": [
      " \n"
     ]
    }
   ],
   "source": [
    "codigo('')"
   ]
  },
  {
   "cell_type": "code",
   "execution_count": 16,
   "id": "14c50744-08d1-40ac-be53-dc6792bfe201",
   "metadata": {},
   "outputs": [
    {
     "data": {
      "text/plain": [
       "'GPB19'"
      ]
     },
     "execution_count": 16,
     "metadata": {},
     "output_type": "execute_result"
    }
   ],
   "source": [
    "codigo(\"Gerard Piqué Bernabeú\")"
   ]
  },
  {
   "cell_type": "code",
   "execution_count": 17,
   "id": "844616f9-1e6c-48b5-b5a1-8bc6db99c810",
   "metadata": {},
   "outputs": [
    {
     "data": {
      "text/plain": [
       "'SRG17'"
      ]
     },
     "execution_count": 17,
     "metadata": {},
     "output_type": "execute_result"
    }
   ],
   "source": [
    "codigo(\"Sergio Ramos García\")"
   ]
  },
  {
   "cell_type": "markdown",
   "id": "b6b479aa-586f-42a9-93bf-5b889c48b023",
   "metadata": {},
   "source": [
    "### **4. Contador de hidrógenos.** \n",
    "\n",
    "Una fórmula química es una representación convencional de los elementos que forman un compuesto. Por ejemplo, el 1-2-butadiol sería C2H5O, que se representa con el string 'C2H5O'. También pueden aparecer elementos químicos de dos caracteres como el calcio Ca en CaCO3 ( 'CaCO3') o el hierro Fe en Fe3O4 ( 'Fe3O4'). En estos casos el segundo carácter del símbolo siempre es una minúscula. Diseña la función contar_hidrogenos(s) que, dado un string s con un compuesto como los descritos antes, devuelve el número de **átomos de hidrógeno** que contiene. Para simplificar el problema, limitaremos el número que puede seguir el símbolo de un elemento a un valor entre **2 y 9**."
   ]
  },
  {
   "cell_type": "code",
   "execution_count": 18,
   "id": "db305617-9b13-4599-ace3-13643a9389ee",
   "metadata": {},
   "outputs": [],
   "source": [
    "def contar_hidrogenos(s):\n",
    "    # Posible números de átomos de hidrógeno\n",
    "    vals = \"23456789\"\n",
    "    # Buscar si el string contiene el átomo H\n",
    "    if \"H\" in s:\n",
    "        for i, l in enumerate(s):\n",
    "            if \"H\" in s[:-1] and l == \"H\":\n",
    "                atom = s[i + 1]\n",
    "                if atom in vals:\n",
    "                    # Transformar a int el valor numérico extraido del string\n",
    "                    atom_m = int(atom)\n",
    "                else:\n",
    "                    # Condición cuando el valor extraido del string no es numérico\n",
    "                    atom_m = 1\n",
    "            elif s[-1] == \"H\":\n",
    "                # Condición cuando el átomo de hidrógeno se encuentra en la última posición\n",
    "                atom_m = 1\n",
    "    else:\n",
    "        # Condición si la molécula no tiene átomos de hidrógeno\n",
    "        atom_m = 0\n",
    "    return atom_m"
   ]
  },
  {
   "cell_type": "code",
   "execution_count": 19,
   "id": "0fc5914e-e822-4ce1-a219-bb0ffdd42c40",
   "metadata": {},
   "outputs": [
    {
     "data": {
      "text/plain": [
       "1"
      ]
     },
     "execution_count": 19,
     "metadata": {},
     "output_type": "execute_result"
    }
   ],
   "source": [
    "contar_hidrogenos(\"HIO\")"
   ]
  },
  {
   "cell_type": "code",
   "execution_count": 20,
   "id": "8844f661-7551-4860-b0b8-3ba016974e9d",
   "metadata": {},
   "outputs": [
    {
     "data": {
      "text/plain": [
       "2"
      ]
     },
     "execution_count": 20,
     "metadata": {},
     "output_type": "execute_result"
    }
   ],
   "source": [
    "contar_hidrogenos(\"H2O\")"
   ]
  },
  {
   "cell_type": "code",
   "execution_count": 21,
   "id": "eef29d4e-8947-45d6-85eb-cd4127c23178",
   "metadata": {},
   "outputs": [
    {
     "data": {
      "text/plain": [
       "5"
      ]
     },
     "execution_count": 21,
     "metadata": {},
     "output_type": "execute_result"
    }
   ],
   "source": [
    "contar_hidrogenos(\"C2H50\")"
   ]
  },
  {
   "cell_type": "code",
   "execution_count": 22,
   "id": "afa4c4b2-78e4-44de-8934-4d4f5d4637cd",
   "metadata": {},
   "outputs": [
    {
     "data": {
      "text/plain": [
       "0"
      ]
     },
     "execution_count": 22,
     "metadata": {},
     "output_type": "execute_result"
    }
   ],
   "source": [
    "contar_hidrogenos(\"Fe3O4\")"
   ]
  },
  {
   "cell_type": "code",
   "execution_count": 23,
   "id": "dad03ebf-0ac9-42c3-aa97-82a3e8d5a9a7",
   "metadata": {},
   "outputs": [
    {
     "data": {
      "text/plain": [
       "1"
      ]
     },
     "execution_count": 23,
     "metadata": {},
     "output_type": "execute_result"
    }
   ],
   "source": [
    "contar_hidrogenos(\"C2OH\")"
   ]
  },
  {
   "cell_type": "markdown",
   "id": "244e563e-371e-40ca-80d7-9d861ba53595",
   "metadata": {},
   "source": [
    "# **Parte 2 - Ejercicios con listas**"
   ]
  },
  {
   "cell_type": "markdown",
   "id": "5baae624-23cf-496b-a535-9dac895cab75",
   "metadata": {},
   "source": [
    "### **5. Diseña la función mediaTempRang(lst)** \n",
    "\n",
    "Dada una lista lst de medidas de temperatura en ºC de un experimento, calcule y devuelva el valor medio de aquellas temperaturas de la lista que estén en el rango de 15 a 45 ºC, inclusive [15, 45]. Devolver el resultado redondeado a 2 cifras decimales. También considerar el caso en que ninguna medida de temperatura de la lista esté en el rango dado. En este caso la función devuelve el valor -1."
   ]
  },
  {
   "cell_type": "code",
   "execution_count": 24,
   "id": "318e5875-db67-48fc-b43f-edbb8056d5fe",
   "metadata": {},
   "outputs": [],
   "source": [
    "def mediaTempRang(lst):\n",
    "    # Crear Lista vacía\n",
    "    temp_r = []\n",
    "    for temp in lst:\n",
    "        # Condición para encontrar valores dentro del rango requerido\n",
    "        if temp >= 15 and temp <= 45:\n",
    "            # Agregar estos valores en la lista vacía\n",
    "            temp_r.append(temp)\n",
    "            # Cálculo del valor medio de estos valores\n",
    "            result = round(sum(temp_r) / len(temp_r), 2)\n",
    "        # Condición de retornar -1 si ninguna temperatura se encuentra dentro del rango requerido\n",
    "        else:\n",
    "            result = -1\n",
    "    return result"
   ]
  },
  {
   "cell_type": "code",
   "execution_count": 25,
   "id": "ecc2d7c4-28e8-46a2-aab9-f8877eeb7642",
   "metadata": {},
   "outputs": [
    {
     "data": {
      "text/plain": [
       "28.98"
      ]
     },
     "execution_count": 25,
     "metadata": {},
     "output_type": "execute_result"
    }
   ],
   "source": [
    "mediaTempRang([34.5, 12.9, 15, 43, 51.4, 23.4])"
   ]
  },
  {
   "cell_type": "code",
   "execution_count": 26,
   "id": "e2d92a99-35e6-4c5d-a37d-88c6a6699ca7",
   "metadata": {},
   "outputs": [
    {
     "data": {
      "text/plain": [
       "22.9"
      ]
     },
     "execution_count": 26,
     "metadata": {},
     "output_type": "execute_result"
    }
   ],
   "source": [
    "mediaTempRang([45.5, 12.9, 15, 32.5, 51.4, 21.2])"
   ]
  },
  {
   "cell_type": "code",
   "execution_count": 27,
   "id": "807127e2-d705-44d0-8318-056b9ce8a952",
   "metadata": {},
   "outputs": [
    {
     "data": {
      "text/plain": [
       "-1"
      ]
     },
     "execution_count": 27,
     "metadata": {},
     "output_type": "execute_result"
    }
   ],
   "source": [
    "mediaTempRang([14.5, 12.6, 47.8])"
   ]
  },
  {
   "cell_type": "code",
   "execution_count": 28,
   "id": "f422f804-8da6-4824-b148-f175e92c91bc",
   "metadata": {},
   "outputs": [
    {
     "data": {
      "text/plain": [
       "16.0"
      ]
     },
     "execution_count": 28,
     "metadata": {},
     "output_type": "execute_result"
    }
   ],
   "source": [
    "mediaTempRang([15, 16, 14, 50, 17])"
   ]
  },
  {
   "cell_type": "code",
   "execution_count": 29,
   "id": "f7ec2451-6ce5-4594-9c34-61c64811aacb",
   "metadata": {},
   "outputs": [
    {
     "data": {
      "text/plain": [
       "-1"
      ]
     },
     "execution_count": 29,
     "metadata": {},
     "output_type": "execute_result"
    }
   ],
   "source": [
    "mediaTempRang([14, 48])"
   ]
  },
  {
   "cell_type": "markdown",
   "id": "e7d59578-44a5-437c-a509-b406594cb482",
   "metadata": {},
   "source": [
    "### **6. Temperatura 2ª fuera de límites.**\n",
    "\n",
    "El Diseñar la función temperatura2limit(lst, L1, L2),\n",
    "en que dada una lista lst de temperaturas en grados Celcius (ºC) medidas cada hora (a partir de la hora 0) y 2 valores L1 y L2 que representan los límites menor y mayor de temperatura, respectivamente, busque y devuelva el valor de la segunda temperatura que esté fuera de esos límites, y la hora en que ocurre. La posición 0 de la lista es la hora 0, la 1 es la hora 1 y así sucesivamente. Si hubieran menos de 2 temperaturas fuera de límite, se retorna -1, -1."
   ]
  },
  {
   "cell_type": "code",
   "execution_count": 30,
   "id": "cf2b6975-1c07-4d25-ad16-637ccc78ff4b",
   "metadata": {},
   "outputs": [],
   "source": [
    "def temperatura2limit(lst, L1, L2):\n",
    "    # Lista vacías de temperatura y hora\n",
    "    temps = []\n",
    "    hora = []\n",
    "    for i, temp in enumerate(lst):\n",
    "        # Condición para escoger valores fuera del rango del lim min y lim max\n",
    "        if temp < L1 or temp > L2:\n",
    "            # LLenar listas vacías con valores de temperatura y hora que estén fuera del rango\n",
    "            temps.append(temp)\n",
    "            hora.append(i)\n",
    "    # Condición para asegurarnos que existen al menos 2 temperaturas fuera de límite       \n",
    "    if len(temps) >= 2:\n",
    "        # Selección de la 2da temperatura fuera del rango y la hora en que ocurre\n",
    "        temp_2 = temps[1]\n",
    "        hora_2 = hora[1]\n",
    "        return (temp_2, hora_2)\n",
    "    else:\n",
    "        return(-1, -1)"
   ]
  },
  {
   "cell_type": "code",
   "execution_count": 31,
   "id": "0bc0fae5-f341-4a55-a89f-99fd5d3c97ff",
   "metadata": {},
   "outputs": [
    {
     "data": {
      "text/plain": [
       "(35.8, 7)"
      ]
     },
     "execution_count": 31,
     "metadata": {},
     "output_type": "execute_result"
    }
   ],
   "source": [
    "temperatura2limit([36, 37 ,37.2 ,36.8 ,38 ,37.5 ,37.6 ,35.8 ,37 ,37.3], 36.5, 38)"
   ]
  },
  {
   "cell_type": "code",
   "execution_count": 32,
   "id": "55dabe04-7ddf-4124-bbfc-6f80e7ea03a4",
   "metadata": {},
   "outputs": [
    {
     "data": {
      "text/plain": [
       "(-1, -1)"
      ]
     },
     "execution_count": 32,
     "metadata": {},
     "output_type": "execute_result"
    }
   ],
   "source": [
    "temperatura2limit([36, 37, 37.2, 36.8, 38, 37.5, 37.6, 35.8, 37, 37.3], 36, 38)"
   ]
  },
  {
   "cell_type": "code",
   "execution_count": 33,
   "id": "49441fd4-d797-440f-bb3b-748f9b48327c",
   "metadata": {},
   "outputs": [
    {
     "data": {
      "text/plain": [
       "(34, 3)"
      ]
     },
     "execution_count": 33,
     "metadata": {},
     "output_type": "execute_result"
    }
   ],
   "source": [
    "temperatura2limit([20, 25, 18, 34, 14, 22], 20, 30)"
   ]
  },
  {
   "cell_type": "code",
   "execution_count": 34,
   "id": "ab6e98fa-c2ac-4b04-b55d-19fd871bd84e",
   "metadata": {},
   "outputs": [
    {
     "data": {
      "text/plain": [
       "(14, 4)"
      ]
     },
     "execution_count": 34,
     "metadata": {},
     "output_type": "execute_result"
    }
   ],
   "source": [
    "temperatura2limit([20, 25, 18, 30, 14, 22], 20, 30)"
   ]
  },
  {
   "cell_type": "code",
   "execution_count": 35,
   "id": "18376afb-45b9-4322-83f4-91d0dba003cd",
   "metadata": {},
   "outputs": [
    {
     "data": {
      "text/plain": [
       "(-1, -1)"
      ]
     },
     "execution_count": 35,
     "metadata": {},
     "output_type": "execute_result"
    }
   ],
   "source": [
    "temperatura2limit([20, 25, 18, 30, 14, 22], 15, 30)"
   ]
  },
  {
   "cell_type": "markdown",
   "id": "78269bb5-94d1-4aa3-8b9d-f08db49dbacd",
   "metadata": {},
   "source": [
    "### **7. Primos pitagóricos.**\n",
    "\n",
    "Diseña la función primoPitagoric2(lst) en que, dada una lista de números enteros positivos no repetidos, devuelva una lista con los 2 primeros números primos pitagóricos. Si no hubiera al menos 2 primos pitagóricos la función devuelve -1 Un número **primo es pitagórico** si se puede escribir como la suma de dos cuadrados. Por ejemplo 5 = 22 + 11 o 13 = 22 + 32. Fermat demostró que un primo pitagórico p es igual a 4k + 1, para algún valor de k entero positivo. Esta condición se puede expresar como: un número primo p es pitagórico si p modulo 4 es igual a 1, es decir si el residuo de dividir p entre 4 es 1. Se debe usar la función es_primo(n) para evaluar si un número es primo o no."
   ]
  },
  {
   "cell_type": "code",
   "execution_count": 36,
   "id": "6092269b-3317-4a98-8c18-2107a353437e",
   "metadata": {},
   "outputs": [],
   "source": [
    "# Función que determina si un número es primo\n",
    "def es_primo(n):\n",
    "    if n <= 1: return False\n",
    "    for d in range(2, n//2+1):\n",
    "        if n % d == 0:\n",
    "            return False\n",
    "    return True"
   ]
  },
  {
   "cell_type": "code",
   "execution_count": 37,
   "id": "2c6dc059-bfe6-4b40-b2e8-85de30ce2d84",
   "metadata": {},
   "outputs": [],
   "source": [
    "def primoPitagoric2(lst):\n",
    "    # Lista vacía\n",
    "    lst_f = []\n",
    "    for i, n in enumerate(lst):\n",
    "        # Condición para que un número sea primo pitagórico\n",
    "        if es_primo(n) and n % 4 == 1:\n",
    "            lst_f.append(n)\n",
    "    # Condición para comprobar que existan al menos 2 número primos pitagóricos\n",
    "    if len(lst_f) >= 2:\n",
    "        # Extraer los 2 primeros números primos categóricos\n",
    "        result = lst_f[:2]\n",
    "        return result\n",
    "    else:\n",
    "        return -1"
   ]
  },
  {
   "cell_type": "code",
   "execution_count": 38,
   "id": "e39e55e5-7ce8-4952-a247-4bf5c1656b21",
   "metadata": {},
   "outputs": [
    {
     "data": {
      "text/plain": [
       "[41, 53]"
      ]
     },
     "execution_count": 38,
     "metadata": {},
     "output_type": "execute_result"
    }
   ],
   "source": [
    "primoPitagoric2([41, 45, 49, 53, 57, 61, 65, 69, 73, 77, 81])"
   ]
  },
  {
   "cell_type": "code",
   "execution_count": 39,
   "id": "9fb5bf4f-0546-48c9-9e17-15fa352d3ec7",
   "metadata": {},
   "outputs": [
    {
     "data": {
      "text/plain": [
       "[5, 13]"
      ]
     },
     "execution_count": 39,
     "metadata": {},
     "output_type": "execute_result"
    }
   ],
   "source": [
    "primoPitagoric2([3, 4, 5, 6, 7, 8, 9, 10, 11, 12, 13])"
   ]
  },
  {
   "cell_type": "code",
   "execution_count": 40,
   "id": "81dbc675-bff1-4930-a5ca-0d6ed4ac3563",
   "metadata": {},
   "outputs": [
    {
     "data": {
      "text/plain": [
       "[5, 13]"
      ]
     },
     "execution_count": 40,
     "metadata": {},
     "output_type": "execute_result"
    }
   ],
   "source": [
    "primoPitagoric2([5, 9, 13, 17, 21, 25, 29, 33, 37, 41])"
   ]
  },
  {
   "cell_type": "code",
   "execution_count": 41,
   "id": "a15a1cbd-1768-48d7-acfb-24a93c3a902f",
   "metadata": {},
   "outputs": [
    {
     "data": {
      "text/plain": [
       "-1"
      ]
     },
     "execution_count": 41,
     "metadata": {},
     "output_type": "execute_result"
    }
   ],
   "source": [
    "primoPitagoric2([3, 4, 5, 6, 7, 8, 9, 10])"
   ]
  },
  {
   "cell_type": "code",
   "execution_count": 42,
   "id": "dd1e7952-7906-4cfb-80c5-98ab331e975c",
   "metadata": {},
   "outputs": [
    {
     "data": {
      "text/plain": [
       "[89, 97]"
      ]
     },
     "execution_count": 42,
     "metadata": {},
     "output_type": "execute_result"
    }
   ],
   "source": [
    "primoPitagoric2([81, 85, 89, 93, 97, 101, 105, 109, 113, 117, 121])"
   ]
  },
  {
   "cell_type": "markdown",
   "id": "89b0b3ee-5a2a-44a5-ba33-ce65ab46b86f",
   "metadata": {},
   "source": [
    "# **Parte 3 - Ejercicios de listas de listas**"
   ]
  },
  {
   "cell_type": "markdown",
   "id": "40f48aa9-1214-4a57-9745-bdb4b76f191f",
   "metadata": {},
   "source": [
    "### **8. Contar negativos.**\n",
    "\n",
    "Dada una lista de listas que representa una matriz cuadrada m, diseña una\n",
    "función contar_neg(m), que cuente los números positivos que tiene."
   ]
  },
  {
   "cell_type": "code",
   "execution_count": 43,
   "id": "c86853af-0c42-4b2d-9b18-28505a2e3d9d",
   "metadata": {},
   "outputs": [],
   "source": [
    "def contar_neg(m):\n",
    "    # Agregar un contador\n",
    "    count = 0\n",
    "    # Recorrer los arreglos de las filas\n",
    "    for row in m:\n",
    "        # Recorrer los valores de las filas\n",
    "        for val in row:\n",
    "            # Condición para extraer números negativos\n",
    "            if val < 0:\n",
    "                # Contar los números negativos de la matríz\n",
    "                count += 1\n",
    "                \n",
    "    return count"
   ]
  },
  {
   "cell_type": "code",
   "execution_count": 44,
   "id": "17d558f4-b057-4f63-8969-c4ea635f57dd",
   "metadata": {},
   "outputs": [
    {
     "data": {
      "text/plain": [
       "2"
      ]
     },
     "execution_count": 44,
     "metadata": {},
     "output_type": "execute_result"
    }
   ],
   "source": [
    "contar_neg([[-1,2],[0,-4]])"
   ]
  },
  {
   "cell_type": "code",
   "execution_count": 45,
   "id": "f6b5b35e-9c39-4307-8dc6-29b012a5017b",
   "metadata": {},
   "outputs": [
    {
     "data": {
      "text/plain": [
       "3"
      ]
     },
     "execution_count": 45,
     "metadata": {},
     "output_type": "execute_result"
    }
   ],
   "source": [
    "contar_neg([[1, -2, 3], [-4,5,6], [7,8,-9]])"
   ]
  },
  {
   "cell_type": "markdown",
   "id": "5e70add3-eba6-4fb9-a1a9-184f70919efd",
   "metadata": {},
   "source": [
    "### **9. Mayor densidad.**\n",
    "\n",
    "Se dispone del nombre, masa y volumen de un planeta almacenado en una\n",
    "lista: [nombre, masa, volumen]. Además, se tiene una lista de planetas como una lista de listas de la forma: [[nombre1, masa1, volumen1], [nombre2, masa2, volumen2], ...]. Diseña la función mas_denso(Lst), en que dada una lista de planetas Lst, nos devuelva el nombre del planeta más denso de esa lista. Si hubiera más de uno con la misma densidad, se devuelve el primero que encuentre en la lista original."
   ]
  },
  {
   "cell_type": "code",
   "execution_count": 46,
   "id": "deb62fd2-027a-4dc0-9d6e-35c96ceac388",
   "metadata": {},
   "outputs": [],
   "source": [
    "def mas_denso(m):\n",
    "    # String vacío de planeta y valor inicial de densidad, 0 en este caso\n",
    "    Planeta = \"\"\n",
    "    den = 0\n",
    "    for row in m:\n",
    "        # cálculo de densidad de cada planeta\n",
    "        rho = row[1] / row[2]\n",
    "        # Agregar valor de densidad a cada planeta\n",
    "        row.append(rho)\n",
    "        # Condición para identificar el planeta que tiene la mayor densidad \n",
    "        if row[3] > den:\n",
    "            den = row[3]\n",
    "            Planeta = row[0]\n",
    "    return Planeta"
   ]
  },
  {
   "cell_type": "code",
   "execution_count": 47,
   "id": "0223e68a-f067-4200-bab3-7e9107d47eb5",
   "metadata": {},
   "outputs": [
    {
     "data": {
      "text/plain": [
       "'Tierra'"
      ]
     },
     "execution_count": 47,
     "metadata": {},
     "output_type": "execute_result"
    }
   ],
   "source": [
    "mas_denso([['Marte', 1, 2], ['Tierra', 2, 3], ['Venus', 1, 3]])"
   ]
  },
  {
   "cell_type": "markdown",
   "id": "cae63785-35e0-4eaa-9b71-b4290cf83dde",
   "metadata": {},
   "source": [
    "### **10. Fútbol.**\n",
    "\n",
    "Al finalizar la jornada 10 de una liga de futbol se dispone en una lista (equipo) de listas (jugadores) con los registros de los jugadores. En cada registro se guarda: su nombre, edad y los minutos jugados en cada partido que haya jugado de estas jornadas. No todos los jugadores han jugado todos los partidos de estas 10 jornadas, por lo que en cada jugador aparecerán solo los minutos de los partidos jugados. Diseña una función lstJugMin(lst, A, m) en que, dada una lista de un equipo de futbol lst, una edad A y un valor m en minutos, devuelva una lista con los nombres de los jugadores con edad de A años o más que hayan jugado en promedio al menos de m minutos. De no encontrarse jugadores con esta edad mínima ni promedio de minutos jugados, se devolverá la lista vacía. Notas: pudiera haber algún jugador sin minutos jugados y en este caso el promedio lo consideramos 0. Se valorará devolver la lista de nombres ordenada alfabéticamente."
   ]
  },
  {
   "cell_type": "code",
   "execution_count": 48,
   "id": "dd80a7ab-559c-4181-92cf-036ad8e79812",
   "metadata": {},
   "outputs": [],
   "source": [
    "def lstJugMin(lst, A, m):\n",
    "    # Lista vacía para identificar jugadores\n",
    "    jugadores = []\n",
    "    \n",
    "    for row in lst:\n",
    "        # Condición para identificar si un jugador no haya jugado ningún minuto\n",
    "        if len(row) == 2:\n",
    "            min_avg = 0\n",
    "        else:\n",
    "            # Promedio de minutos jugados por cada jugador\n",
    "            min_avg = round(sum(row[2:]) / len(row[2:]), 3)\n",
    "                # Condición para identificar jugadores que cumplan las condiciones edad y minutos requeridos\n",
    "        if row[1] >= A and min_avg >= m:\n",
    "            # Llenar la lista con los jugadores que cumplen las condiciones\n",
    "            jugadores.append(row[0])\n",
    "    # Orden alfabéticamente los nombres de los jugadores       \n",
    "    jugadores.sort()\n",
    "    return jugadores"
   ]
  },
  {
   "cell_type": "code",
   "execution_count": 49,
   "id": "f2c44e83-a965-4c87-8266-03106e448456",
   "metadata": {},
   "outputs": [
    {
     "data": {
      "text/plain": [
       "['Lionel', 'Pique']"
      ]
     },
     "execution_count": 49,
     "metadata": {},
     "output_type": "execute_result"
    }
   ],
   "source": [
    "lst_equipo = [['Lionel', 33, 77, 90, 82, 75, 90, 65, 90, 80], \\\n",
    "['Ramos', 34, 88, 75, 81, 90, 74, 62], \\\n",
    "['Koke',27, 78, 89, 85, 76, 90, 65, 81, 90], \\\n",
    "['Saul', 24, 90, 90, 90, 90, 90, 90, 90], \\\n",
    "['Joao', 25, 24, 22, 45, 20, 25, 90, 60], \\\n",
    "['Odriozola', 25, 70, 45, 90, 75, 80], \\\n",
    "['Lenglet', 23, 45, 55, 50], \\\n",
    "['Pique', 33, 90, 90, 90, 90, 90, 90, 90, 90], \\\n",
    "['Araujo', 21, 28, 15, 45, 18, 25, 33], \\\n",
    "['Valverde', 22, 45, 55, 33, 40], \\\n",
    "['Rosales', 30, 75], \\\n",
    "['Piatti', 40, 80, 31, 40, 20]]\n",
    "\n",
    "lstJugMin(lst_equipo, 33, 80)"
   ]
  },
  {
   "cell_type": "code",
   "execution_count": 50,
   "id": "56a27de7-5879-4954-9a23-488b91f44520",
   "metadata": {},
   "outputs": [
    {
     "data": {
      "text/plain": [
       "['Koke', 'Lionel', 'Pique', 'Saul']"
      ]
     },
     "execution_count": 50,
     "metadata": {},
     "output_type": "execute_result"
    }
   ],
   "source": [
    "lstJugMin(lst_equipo, 23, 80)"
   ]
  },
  {
   "cell_type": "code",
   "execution_count": 51,
   "id": "f79f83d8-c60c-43a8-a175-4af776bbd571",
   "metadata": {},
   "outputs": [
    {
     "data": {
      "text/plain": [
       "['Pique', 'Saul']"
      ]
     },
     "execution_count": 51,
     "metadata": {},
     "output_type": "execute_result"
    }
   ],
   "source": [
    "lstJugMin(lst_equipo, 24, 90)"
   ]
  },
  {
   "cell_type": "code",
   "execution_count": 52,
   "id": "12d0cf63-fc01-4bc2-90b5-e4088cb09426",
   "metadata": {},
   "outputs": [
    {
     "data": {
      "text/plain": [
       "[]"
      ]
     },
     "execution_count": 52,
     "metadata": {},
     "output_type": "execute_result"
    }
   ],
   "source": [
    "lstJugMin(lst_equipo, 34, 90)"
   ]
  }
 ],
 "metadata": {
  "kernelspec": {
   "display_name": "Python 3 (ipykernel)",
   "language": "python",
   "name": "python3"
  },
  "language_info": {
   "codemirror_mode": {
    "name": "ipython",
    "version": 3
   },
   "file_extension": ".py",
   "mimetype": "text/x-python",
   "name": "python",
   "nbconvert_exporter": "python",
   "pygments_lexer": "ipython3",
   "version": "3.10.6"
  }
 },
 "nbformat": 4,
 "nbformat_minor": 5
}
