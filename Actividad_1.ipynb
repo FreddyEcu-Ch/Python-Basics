{
 "cells": [
  {
   "cell_type": "markdown",
   "id": "912bb524-0670-481e-91fd-1ab50b6ec9d8",
   "metadata": {},
   "source": [
    "# **Actividad 1 - Herramientas de Programación**"
   ]
  },
  {
   "cell_type": "markdown",
   "id": "2558d0af-c1a9-4d19-86fc-fea3fc75742b",
   "metadata": {},
   "source": [
    "**Estudiante:** Freddy Carrión Maldonado \\\n",
    "**Asignatura:** Fundamentos de Programación "
   ]
  },
  {
   "cell_type": "markdown",
   "id": "ae258603-356b-49fd-9cd0-886a6622e7b1",
   "metadata": {},
   "source": [
    "# **Objetivo**\n",
    "\n",
    "Utilizar programación modular, diseñando y usando funciones en programas con Python que contengan datos estructurados inmutables – strings y mutables – listas, incluyendo listas de listas."
   ]
  },
  {
   "cell_type": "markdown",
   "id": "809c1165-5818-4573-ad07-dda22b3fa2d6",
   "metadata": {},
   "source": [
    "# **Parte 1 - Ejercicios con strings (cadenas de caracteres)**"
   ]
  },
  {
   "cell_type": "markdown",
   "id": "afb5fb66-d667-454e-8b8a-5b10974f496e",
   "metadata": {},
   "source": [
    "### **1. Porcentaje de vocales.** \n",
    "\n",
    "Escribe una función porcentVocal(s) en que dado un string s, la función devuelva el porcentaje de vocales que contiene el string. Deben considerarse vocales minúsculas y mayúsculas. Devolver el resultado con un decimal de precisión. Consideraremos que las vocales están sin tilde o acento gráfico. Se valorará prever el caso que se envíe como argumento un string vacío."
   ]
  },
  {
   "cell_type": "code",
   "execution_count": 36,
   "id": "82015a95-9ca6-4e77-a3ed-deca247736fe",
   "metadata": {},
   "outputs": [],
   "source": [
    "def porcentVocal(s):\n",
    "    if s != \"\":\n",
    "        vowels = \"aeiou\"\n",
    "        suma = 0\n",
    "        for letra in s:\n",
    "            if letra in vowels or letra in vowels.upper():\n",
    "                suma += 1\n",
    "            else:\n",
    "                continue\n",
    "        por_vowels = (suma / len(s)) * 100\n",
    "        return round(por_vowels, 1)\n",
    "    else:\n",
    "        print(\"Ingresar una cadena que no sea vacía\")"
   ]
  },
  {
   "cell_type": "code",
   "execution_count": 83,
   "id": "c1c68d43-78ea-47d7-a961-e7158cf42886",
   "metadata": {},
   "outputs": [
    {
     "data": {
      "text/plain": [
       "50.0"
      ]
     },
     "execution_count": 83,
     "metadata": {},
     "output_type": "execute_result"
    }
   ],
   "source": [
    "porcentVocal(\"Hola\")"
   ]
  },
  {
   "cell_type": "code",
   "execution_count": 37,
   "id": "9b946a4e-341b-4aa3-9e04-f46c3497de06",
   "metadata": {},
   "outputs": [
    {
     "data": {
      "text/plain": [
       "57.1"
      ]
     },
     "execution_count": 37,
     "metadata": {},
     "output_type": "execute_result"
    }
   ],
   "source": [
    "porcentVocal(\"Ecuador\")"
   ]
  },
  {
   "cell_type": "code",
   "execution_count": 85,
   "id": "8b93bba1-dc41-47a4-aaac-c96d910de673",
   "metadata": {},
   "outputs": [
    {
     "data": {
      "text/plain": [
       "66.7"
      ]
     },
     "execution_count": 85,
     "metadata": {},
     "output_type": "execute_result"
    }
   ],
   "source": [
    "porcentVocal(\"Acacia\")"
   ]
  },
  {
   "cell_type": "code",
   "execution_count": 86,
   "id": "67b8a737-33d8-4031-aa4d-92031f677eb1",
   "metadata": {},
   "outputs": [
    {
     "data": {
      "text/plain": [
       "0.0"
      ]
     },
     "execution_count": 86,
     "metadata": {},
     "output_type": "execute_result"
    }
   ],
   "source": [
    "porcentVocal(\"Brrrrrrr\")"
   ]
  },
  {
   "cell_type": "code",
   "execution_count": 87,
   "id": "bcee8dd3-9845-463f-bf7b-0c415a40d5f6",
   "metadata": {},
   "outputs": [
    {
     "data": {
      "text/plain": [
       "100.0"
      ]
     },
     "execution_count": 87,
     "metadata": {},
     "output_type": "execute_result"
    }
   ],
   "source": [
    "porcentVocal(\"aAe\")"
   ]
  },
  {
   "cell_type": "code",
   "execution_count": 38,
   "id": "c1733088-fe19-47ee-a56f-1d6d420c0376",
   "metadata": {},
   "outputs": [
    {
     "name": "stdout",
     "output_type": "stream",
     "text": [
      "Ingresar una cadena que no sea vacía\n"
     ]
    }
   ],
   "source": [
    "porcentVocal(\"\")"
   ]
  },
  {
   "cell_type": "markdown",
   "id": "40cc8cf5-cebe-4afd-86c2-23ddf096733d",
   "metadata": {},
   "source": [
    "### **2. Elimina vocales.**\n",
    "\n",
    "Diseña una función delete_vowels(s) que, dado un string s devuelva un string con los caracteres de s en el mismo orden pero sin sus vocales (mayúsculas o minúsculas). Nota: consideraremos que las vocales que aparezcan serán sin tilde o acento gráfico."
   ]
  },
  {
   "cell_type": "code",
   "execution_count": 39,
   "id": "7612ccf9-16c1-4287-a6d5-b121b3c10ac8",
   "metadata": {},
   "outputs": [],
   "source": [
    "def delete_vowels(s):\n",
    "    vowels = \"aeiou\"\n",
    "    carac = \"\"\n",
    "    for letra in s:\n",
    "        if letra in vowels or letra in vowels.upper():\n",
    "            continue\n",
    "        else:\n",
    "            carac += letra\n",
    "    return carac"
   ]
  },
  {
   "cell_type": "code",
   "execution_count": 77,
   "id": "e673e348-3f99-44cf-87bc-9d62896c7b0f",
   "metadata": {},
   "outputs": [
    {
     "data": {
      "text/plain": [
       "'Csblnc'"
      ]
     },
     "execution_count": 77,
     "metadata": {},
     "output_type": "execute_result"
    }
   ],
   "source": [
    "delete_vowels(\"Casablanca\")"
   ]
  },
  {
   "cell_type": "code",
   "execution_count": 78,
   "id": "b8998c28-599e-4b73-bca8-203e33bd3c57",
   "metadata": {},
   "outputs": [
    {
     "data": {
      "text/plain": [
       "'lcnt'"
      ]
     },
     "execution_count": 78,
     "metadata": {},
     "output_type": "execute_result"
    }
   ],
   "source": [
    "delete_vowels(\"Alicante\")"
   ]
  },
  {
   "cell_type": "code",
   "execution_count": 79,
   "id": "4ef11951-293c-4b39-b336-f395543d6652",
   "metadata": {},
   "outputs": [
    {
     "data": {
      "text/plain": [
       "'Hy hy xmn'"
      ]
     },
     "execution_count": 79,
     "metadata": {},
     "output_type": "execute_result"
    }
   ],
   "source": [
    "delete_vowels(\"Hoy hay examen\")"
   ]
  },
  {
   "cell_type": "markdown",
   "id": "f803e450-3565-44ad-8951-ffa0ab0afdfc",
   "metadata": {},
   "source": [
    "### **3. Calcula código.**\n",
    "\n",
    "Dado un string s que contiene los nombres y apellidos de una persona, diseña la función codigo(s) que devuelva el string **ini** + str(**count**), donde **ini** contiene las iniciales de la persona (las letras mayúsculas de s) y **count** es el número total de letras de sus nombres y apellidos (es decir, las letras de s sin contar caracteres blancos o espacios)."
   ]
  },
  {
   "cell_type": "code",
   "execution_count": 75,
   "id": "b33d3956-6533-49f7-a9ca-399a342ba406",
   "metadata": {},
   "outputs": [],
   "source": [
    "def codigo(s):\n",
    "    if s != \"\":\n",
    "        # Convierto a mayúscula la primera letra de cada palabra\n",
    "        s_1 = s.title()\n",
    "        # Guardo en una lista las palabras\n",
    "        s_l = s_1.split()\n",
    "        # Convierto la lista nuevamente a string\n",
    "        s_f = \"\".join(s_l)\n",
    "\n",
    "        # string vacío\n",
    "        ini = \"\"\n",
    "        count = 0\n",
    "        for l in s_f:\n",
    "            if l.isupper():\n",
    "                ini += l\n",
    "            else:\n",
    "                continue\n",
    "        # string final\n",
    "        ini = ini + str(len(s_f))\n",
    "        return ini\n",
    "    else:\n",
    "        print(\" \")"
   ]
  },
  {
   "cell_type": "code",
   "execution_count": 76,
   "id": "3664031e-b3ef-4785-9743-2c2eb94d836d",
   "metadata": {},
   "outputs": [
    {
     "data": {
      "text/plain": [
       "'FC13'"
      ]
     },
     "execution_count": 76,
     "metadata": {},
     "output_type": "execute_result"
    }
   ],
   "source": [
    "codigo(\"freddy Carrion\")"
   ]
  },
  {
   "cell_type": "code",
   "execution_count": 80,
   "id": "1d81501b-e375-4ea6-8544-a1045b7eb81c",
   "metadata": {},
   "outputs": [
    {
     "data": {
      "text/plain": [
       "'BFJS31'"
      ]
     },
     "execution_count": 80,
     "metadata": {},
     "output_type": "execute_result"
    }
   ],
   "source": [
    "codigo(\"Bruce Frederick Joseph Springsteen\")"
   ]
  },
  {
   "cell_type": "code",
   "execution_count": 56,
   "id": "1b1accea-abe8-492c-85f6-190c5821d7d3",
   "metadata": {},
   "outputs": [
    {
     "name": "stdout",
     "output_type": "stream",
     "text": [
      " \n"
     ]
    }
   ],
   "source": [
    "codigo('')"
   ]
  },
  {
   "cell_type": "code",
   "execution_count": 81,
   "id": "14c50744-08d1-40ac-be53-dc6792bfe201",
   "metadata": {},
   "outputs": [
    {
     "data": {
      "text/plain": [
       "'GPB19'"
      ]
     },
     "execution_count": 81,
     "metadata": {},
     "output_type": "execute_result"
    }
   ],
   "source": [
    "codigo(\"Gerard Piqué Bernabeú\")"
   ]
  },
  {
   "cell_type": "code",
   "execution_count": 82,
   "id": "844616f9-1e6c-48b5-b5a1-8bc6db99c810",
   "metadata": {},
   "outputs": [
    {
     "data": {
      "text/plain": [
       "'SRG17'"
      ]
     },
     "execution_count": 82,
     "metadata": {},
     "output_type": "execute_result"
    }
   ],
   "source": [
    "codigo(\"Sergio Ramos García\")"
   ]
  },
  {
   "cell_type": "markdown",
   "id": "b6b479aa-586f-42a9-93bf-5b889c48b023",
   "metadata": {},
   "source": [
    "### **4. Contador de hidrógenos.** \n",
    "\n",
    "Una fórmula química es una representación convencional de los elementos que forman un compuesto. Por ejemplo, el 1-2-butadiol sería C2H5O, que se representa con el string 'C2H5O'. También pueden aparecer elementos químicos de dos caracteres como el calcio Ca en CaCO3 ( 'CaCO3') o el hierro Fe en Fe3O4 ( 'Fe3O4'). En estos casos el segundo carácter del símbolo siempre es una minúscula. Diseña la función contar_hidrogenos(s) que, dado un string s con un compuesto como los descritos antes, devuelve el número de **átomos de hidrógeno** que contiene. Para simplificar el problema, limitaremos el número que puede seguir el símbolo de un elemento a un valor entre **2 y 9**."
   ]
  },
  {
   "cell_type": "code",
   "execution_count": 89,
   "id": "db305617-9b13-4599-ace3-13643a9389ee",
   "metadata": {},
   "outputs": [],
   "source": [
    "def contar_hidrogenos(s):\n",
    "    s_l = s.split()\n",
    "    for elem in s:\n",
    "        if elem == \"H\":\n",
    "            continue\n",
    "            count = elem\n",
    "        else:\n",
    "            count = 0\n",
    "            \n",
    "    return count"
   ]
  },
  {
   "cell_type": "code",
   "execution_count": 90,
   "id": "0fc5914e-e822-4ce1-a219-bb0ffdd42c40",
   "metadata": {},
   "outputs": [
    {
     "data": {
      "text/plain": [
       "0"
      ]
     },
     "execution_count": 90,
     "metadata": {},
     "output_type": "execute_result"
    }
   ],
   "source": [
    "contar_hidrogenos(\"H2O\")"
   ]
  },
  {
   "cell_type": "code",
   "execution_count": 165,
   "id": "65e8976f-8dfc-4897-bba4-0d11f540ec7a",
   "metadata": {},
   "outputs": [
    {
     "data": {
      "text/plain": [
       "'O'"
      ]
     },
     "execution_count": 165,
     "metadata": {},
     "output_type": "execute_result"
    }
   ],
   "source": [
    "a = \"P3HO\"\n",
    "\n",
    "for i, l in enumerate(a):\n",
    "    if l == \"H\" and i == -1:\n",
    "        atom = 1\n",
    "    elif l == \"H\" and i != -1:\n",
    "        atom = a[i + 1]\n",
    "atom"
   ]
  },
  {
   "cell_type": "code",
   "execution_count": 179,
   "id": "529d3319-ca03-4285-9b8f-4070b5599bf0",
   "metadata": {},
   "outputs": [
    {
     "ename": "NameError",
     "evalue": "name 'h' is not defined",
     "output_type": "error",
     "traceback": [
      "\u001b[1;31m---------------------------------------------------------------------------\u001b[0m",
      "\u001b[1;31mNameError\u001b[0m                                 Traceback (most recent call last)",
      "Cell \u001b[1;32mIn [179], line 6\u001b[0m\n\u001b[0;32m      4\u001b[0m \u001b[38;5;28;01mif\u001b[39;00m l \u001b[38;5;241m==\u001b[39m \u001b[38;5;124m\"\u001b[39m\u001b[38;5;124mH\u001b[39m\u001b[38;5;124m\"\u001b[39m \u001b[38;5;129;01mand\u001b[39;00m i \u001b[38;5;241m==\u001b[39m \u001b[38;5;241m-\u001b[39m\u001b[38;5;241m1\u001b[39m:\n\u001b[0;32m      5\u001b[0m     h \u001b[38;5;241m=\u001b[39m \u001b[38;5;241m1\u001b[39m\n\u001b[1;32m----> 6\u001b[0m \u001b[38;5;28mprint\u001b[39m(\u001b[43mh\u001b[49m)\n",
      "\u001b[1;31mNameError\u001b[0m: name 'h' is not defined"
     ]
    }
   ],
   "source": [
    "b = \"P3H\"\n",
    "\n",
    "for i, l in enumerate(b):\n",
    "    if l == \"H\" and i == -1:\n",
    "        h = 1"
   ]
  },
  {
   "cell_type": "code",
   "execution_count": null,
   "id": "7ab5e847-f3fb-4fca-a5ba-6af4f5a64985",
   "metadata": {},
   "outputs": [],
   "source": []
  }
 ],
 "metadata": {
  "kernelspec": {
   "display_name": "Python 3 (ipykernel)",
   "language": "python",
   "name": "python3"
  },
  "language_info": {
   "codemirror_mode": {
    "name": "ipython",
    "version": 3
   },
   "file_extension": ".py",
   "mimetype": "text/x-python",
   "name": "python",
   "nbconvert_exporter": "python",
   "pygments_lexer": "ipython3",
   "version": "3.10.6"
  }
 },
 "nbformat": 4,
 "nbformat_minor": 5
}
